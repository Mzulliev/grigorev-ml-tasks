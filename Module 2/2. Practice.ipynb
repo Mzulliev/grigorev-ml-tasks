{
 "cells": [
  {
   "cell_type": "markdown",
   "id": "fcad3e0e-cb83-4369-999d-a62c40be4cec",
   "metadata": {},
   "source": [
    "## Исследовательский анализ данных (EDA)"
   ]
  },
  {
   "cell_type": "code",
   "execution_count": 1,
   "id": "9bd72fb4-88e7-4b52-bec3-22b52b4cb3a2",
   "metadata": {},
   "outputs": [],
   "source": [
    "import os\n",
    "import pathlib"
   ]
  },
  {
   "cell_type": "code",
   "execution_count": 2,
   "id": "28d09a6b-793f-4e28-89fa-0891db9167d3",
   "metadata": {},
   "outputs": [],
   "source": [
    "import numpy as np\n",
    "import pandas as pd\n",
    "import matplotlib.pyplot as plt\n",
    "import seaborn as sns\n",
    "%matplotlib inline"
   ]
  },
  {
   "cell_type": "code",
   "execution_count": 3,
   "id": "8389e8c1-afd7-4c36-a56b-bd91bc6c775e",
   "metadata": {},
   "outputs": [
    {
     "data": {
      "text/html": [
       "<div>\n",
       "<style scoped>\n",
       "    .dataframe tbody tr th:only-of-type {\n",
       "        vertical-align: middle;\n",
       "    }\n",
       "\n",
       "    .dataframe tbody tr th {\n",
       "        vertical-align: top;\n",
       "    }\n",
       "\n",
       "    .dataframe thead th {\n",
       "        text-align: right;\n",
       "    }\n",
       "</style>\n",
       "<table border=\"1\" class=\"dataframe\">\n",
       "  <thead>\n",
       "    <tr style=\"text-align: right;\">\n",
       "      <th></th>\n",
       "      <th>Make</th>\n",
       "      <th>Model</th>\n",
       "      <th>Year</th>\n",
       "      <th>Engine Fuel Type</th>\n",
       "      <th>Engine HP</th>\n",
       "      <th>Engine Cylinders</th>\n",
       "      <th>Transmission Type</th>\n",
       "      <th>Driven_Wheels</th>\n",
       "      <th>Number of Doors</th>\n",
       "      <th>Market Category</th>\n",
       "      <th>Vehicle Size</th>\n",
       "      <th>Vehicle Style</th>\n",
       "      <th>highway MPG</th>\n",
       "      <th>city mpg</th>\n",
       "      <th>Popularity</th>\n",
       "      <th>MSRP</th>\n",
       "    </tr>\n",
       "  </thead>\n",
       "  <tbody>\n",
       "    <tr>\n",
       "      <th>0</th>\n",
       "      <td>BMW</td>\n",
       "      <td>1 Series M</td>\n",
       "      <td>2011</td>\n",
       "      <td>premium unleaded (required)</td>\n",
       "      <td>335.0</td>\n",
       "      <td>6.0</td>\n",
       "      <td>MANUAL</td>\n",
       "      <td>rear wheel drive</td>\n",
       "      <td>2.0</td>\n",
       "      <td>Factory Tuner,Luxury,High-Performance</td>\n",
       "      <td>Compact</td>\n",
       "      <td>Coupe</td>\n",
       "      <td>26</td>\n",
       "      <td>19</td>\n",
       "      <td>3916</td>\n",
       "      <td>46135</td>\n",
       "    </tr>\n",
       "    <tr>\n",
       "      <th>1</th>\n",
       "      <td>BMW</td>\n",
       "      <td>1 Series</td>\n",
       "      <td>2011</td>\n",
       "      <td>premium unleaded (required)</td>\n",
       "      <td>300.0</td>\n",
       "      <td>6.0</td>\n",
       "      <td>MANUAL</td>\n",
       "      <td>rear wheel drive</td>\n",
       "      <td>2.0</td>\n",
       "      <td>Luxury,Performance</td>\n",
       "      <td>Compact</td>\n",
       "      <td>Convertible</td>\n",
       "      <td>28</td>\n",
       "      <td>19</td>\n",
       "      <td>3916</td>\n",
       "      <td>40650</td>\n",
       "    </tr>\n",
       "    <tr>\n",
       "      <th>2</th>\n",
       "      <td>BMW</td>\n",
       "      <td>1 Series</td>\n",
       "      <td>2011</td>\n",
       "      <td>premium unleaded (required)</td>\n",
       "      <td>300.0</td>\n",
       "      <td>6.0</td>\n",
       "      <td>MANUAL</td>\n",
       "      <td>rear wheel drive</td>\n",
       "      <td>2.0</td>\n",
       "      <td>Luxury,High-Performance</td>\n",
       "      <td>Compact</td>\n",
       "      <td>Coupe</td>\n",
       "      <td>28</td>\n",
       "      <td>20</td>\n",
       "      <td>3916</td>\n",
       "      <td>36350</td>\n",
       "    </tr>\n",
       "    <tr>\n",
       "      <th>3</th>\n",
       "      <td>BMW</td>\n",
       "      <td>1 Series</td>\n",
       "      <td>2011</td>\n",
       "      <td>premium unleaded (required)</td>\n",
       "      <td>230.0</td>\n",
       "      <td>6.0</td>\n",
       "      <td>MANUAL</td>\n",
       "      <td>rear wheel drive</td>\n",
       "      <td>2.0</td>\n",
       "      <td>Luxury,Performance</td>\n",
       "      <td>Compact</td>\n",
       "      <td>Coupe</td>\n",
       "      <td>28</td>\n",
       "      <td>18</td>\n",
       "      <td>3916</td>\n",
       "      <td>29450</td>\n",
       "    </tr>\n",
       "    <tr>\n",
       "      <th>4</th>\n",
       "      <td>BMW</td>\n",
       "      <td>1 Series</td>\n",
       "      <td>2011</td>\n",
       "      <td>premium unleaded (required)</td>\n",
       "      <td>230.0</td>\n",
       "      <td>6.0</td>\n",
       "      <td>MANUAL</td>\n",
       "      <td>rear wheel drive</td>\n",
       "      <td>2.0</td>\n",
       "      <td>Luxury</td>\n",
       "      <td>Compact</td>\n",
       "      <td>Convertible</td>\n",
       "      <td>28</td>\n",
       "      <td>18</td>\n",
       "      <td>3916</td>\n",
       "      <td>34500</td>\n",
       "    </tr>\n",
       "  </tbody>\n",
       "</table>\n",
       "</div>"
      ],
      "text/plain": [
       "  Make       Model  Year             Engine Fuel Type  Engine HP  \\\n",
       "0  BMW  1 Series M  2011  premium unleaded (required)      335.0   \n",
       "1  BMW    1 Series  2011  premium unleaded (required)      300.0   \n",
       "2  BMW    1 Series  2011  premium unleaded (required)      300.0   \n",
       "3  BMW    1 Series  2011  premium unleaded (required)      230.0   \n",
       "4  BMW    1 Series  2011  premium unleaded (required)      230.0   \n",
       "\n",
       "   Engine Cylinders Transmission Type     Driven_Wheels  Number of Doors  \\\n",
       "0               6.0            MANUAL  rear wheel drive              2.0   \n",
       "1               6.0            MANUAL  rear wheel drive              2.0   \n",
       "2               6.0            MANUAL  rear wheel drive              2.0   \n",
       "3               6.0            MANUAL  rear wheel drive              2.0   \n",
       "4               6.0            MANUAL  rear wheel drive              2.0   \n",
       "\n",
       "                         Market Category Vehicle Size Vehicle Style  \\\n",
       "0  Factory Tuner,Luxury,High-Performance      Compact         Coupe   \n",
       "1                     Luxury,Performance      Compact   Convertible   \n",
       "2                Luxury,High-Performance      Compact         Coupe   \n",
       "3                     Luxury,Performance      Compact         Coupe   \n",
       "4                                 Luxury      Compact   Convertible   \n",
       "\n",
       "   highway MPG  city mpg  Popularity   MSRP  \n",
       "0           26        19        3916  46135  \n",
       "1           28        19        3916  40650  \n",
       "2           28        20        3916  36350  \n",
       "3           28        18        3916  29450  \n",
       "4           28        18        3916  34500  "
      ]
     },
     "execution_count": 3,
     "metadata": {},
     "output_type": "execute_result"
    }
   ],
   "source": [
    "df = pd.read_csv('data.csv')\n",
    "df.head()"
   ]
  },
  {
   "cell_type": "code",
   "execution_count": 4,
   "id": "8ac81c4c-5294-49eb-bdf8-aa0272005068",
   "metadata": {},
   "outputs": [],
   "source": [
    "df.columns = df.columns.str.lower().str.replace(\" \", \"_\")"
   ]
  },
  {
   "cell_type": "code",
   "execution_count": 5,
   "id": "e18ad777-e8ff-48d6-b303-a17b22c2f166",
   "metadata": {},
   "outputs": [],
   "source": [
    "string_columns = df.dtypes[df.dtypes == \"object\"].index.tolist()\n",
    "for col in string_columns:\n",
    "    df[col] = df[col].str.lower().str.replace(\" \", \"_\")"
   ]
  },
  {
   "cell_type": "code",
   "execution_count": 6,
   "id": "84d1e4f0-88ff-4742-974d-45207db54f0a",
   "metadata": {},
   "outputs": [
    {
     "data": {
      "text/html": [
       "<div>\n",
       "<style scoped>\n",
       "    .dataframe tbody tr th:only-of-type {\n",
       "        vertical-align: middle;\n",
       "    }\n",
       "\n",
       "    .dataframe tbody tr th {\n",
       "        vertical-align: top;\n",
       "    }\n",
       "\n",
       "    .dataframe thead th {\n",
       "        text-align: right;\n",
       "    }\n",
       "</style>\n",
       "<table border=\"1\" class=\"dataframe\">\n",
       "  <thead>\n",
       "    <tr style=\"text-align: right;\">\n",
       "      <th></th>\n",
       "      <th>make</th>\n",
       "      <th>model</th>\n",
       "      <th>year</th>\n",
       "      <th>engine_fuel_type</th>\n",
       "      <th>engine_hp</th>\n",
       "      <th>engine_cylinders</th>\n",
       "      <th>transmission_type</th>\n",
       "      <th>driven_wheels</th>\n",
       "      <th>number_of_doors</th>\n",
       "      <th>market_category</th>\n",
       "      <th>vehicle_size</th>\n",
       "      <th>vehicle_style</th>\n",
       "      <th>highway_mpg</th>\n",
       "      <th>city_mpg</th>\n",
       "      <th>popularity</th>\n",
       "      <th>msrp</th>\n",
       "    </tr>\n",
       "  </thead>\n",
       "  <tbody>\n",
       "    <tr>\n",
       "      <th>0</th>\n",
       "      <td>bmw</td>\n",
       "      <td>1_series_m</td>\n",
       "      <td>2011</td>\n",
       "      <td>premium_unleaded_(required)</td>\n",
       "      <td>335.0</td>\n",
       "      <td>6.0</td>\n",
       "      <td>manual</td>\n",
       "      <td>rear_wheel_drive</td>\n",
       "      <td>2.0</td>\n",
       "      <td>factory_tuner,luxury,high-performance</td>\n",
       "      <td>compact</td>\n",
       "      <td>coupe</td>\n",
       "      <td>26</td>\n",
       "      <td>19</td>\n",
       "      <td>3916</td>\n",
       "      <td>46135</td>\n",
       "    </tr>\n",
       "    <tr>\n",
       "      <th>1</th>\n",
       "      <td>bmw</td>\n",
       "      <td>1_series</td>\n",
       "      <td>2011</td>\n",
       "      <td>premium_unleaded_(required)</td>\n",
       "      <td>300.0</td>\n",
       "      <td>6.0</td>\n",
       "      <td>manual</td>\n",
       "      <td>rear_wheel_drive</td>\n",
       "      <td>2.0</td>\n",
       "      <td>luxury,performance</td>\n",
       "      <td>compact</td>\n",
       "      <td>convertible</td>\n",
       "      <td>28</td>\n",
       "      <td>19</td>\n",
       "      <td>3916</td>\n",
       "      <td>40650</td>\n",
       "    </tr>\n",
       "    <tr>\n",
       "      <th>2</th>\n",
       "      <td>bmw</td>\n",
       "      <td>1_series</td>\n",
       "      <td>2011</td>\n",
       "      <td>premium_unleaded_(required)</td>\n",
       "      <td>300.0</td>\n",
       "      <td>6.0</td>\n",
       "      <td>manual</td>\n",
       "      <td>rear_wheel_drive</td>\n",
       "      <td>2.0</td>\n",
       "      <td>luxury,high-performance</td>\n",
       "      <td>compact</td>\n",
       "      <td>coupe</td>\n",
       "      <td>28</td>\n",
       "      <td>20</td>\n",
       "      <td>3916</td>\n",
       "      <td>36350</td>\n",
       "    </tr>\n",
       "    <tr>\n",
       "      <th>3</th>\n",
       "      <td>bmw</td>\n",
       "      <td>1_series</td>\n",
       "      <td>2011</td>\n",
       "      <td>premium_unleaded_(required)</td>\n",
       "      <td>230.0</td>\n",
       "      <td>6.0</td>\n",
       "      <td>manual</td>\n",
       "      <td>rear_wheel_drive</td>\n",
       "      <td>2.0</td>\n",
       "      <td>luxury,performance</td>\n",
       "      <td>compact</td>\n",
       "      <td>coupe</td>\n",
       "      <td>28</td>\n",
       "      <td>18</td>\n",
       "      <td>3916</td>\n",
       "      <td>29450</td>\n",
       "    </tr>\n",
       "    <tr>\n",
       "      <th>4</th>\n",
       "      <td>bmw</td>\n",
       "      <td>1_series</td>\n",
       "      <td>2011</td>\n",
       "      <td>premium_unleaded_(required)</td>\n",
       "      <td>230.0</td>\n",
       "      <td>6.0</td>\n",
       "      <td>manual</td>\n",
       "      <td>rear_wheel_drive</td>\n",
       "      <td>2.0</td>\n",
       "      <td>luxury</td>\n",
       "      <td>compact</td>\n",
       "      <td>convertible</td>\n",
       "      <td>28</td>\n",
       "      <td>18</td>\n",
       "      <td>3916</td>\n",
       "      <td>34500</td>\n",
       "    </tr>\n",
       "  </tbody>\n",
       "</table>\n",
       "</div>"
      ],
      "text/plain": [
       "  make       model  year             engine_fuel_type  engine_hp  \\\n",
       "0  bmw  1_series_m  2011  premium_unleaded_(required)      335.0   \n",
       "1  bmw    1_series  2011  premium_unleaded_(required)      300.0   \n",
       "2  bmw    1_series  2011  premium_unleaded_(required)      300.0   \n",
       "3  bmw    1_series  2011  premium_unleaded_(required)      230.0   \n",
       "4  bmw    1_series  2011  premium_unleaded_(required)      230.0   \n",
       "\n",
       "   engine_cylinders transmission_type     driven_wheels  number_of_doors  \\\n",
       "0               6.0            manual  rear_wheel_drive              2.0   \n",
       "1               6.0            manual  rear_wheel_drive              2.0   \n",
       "2               6.0            manual  rear_wheel_drive              2.0   \n",
       "3               6.0            manual  rear_wheel_drive              2.0   \n",
       "4               6.0            manual  rear_wheel_drive              2.0   \n",
       "\n",
       "                         market_category vehicle_size vehicle_style  \\\n",
       "0  factory_tuner,luxury,high-performance      compact         coupe   \n",
       "1                     luxury,performance      compact   convertible   \n",
       "2                luxury,high-performance      compact         coupe   \n",
       "3                     luxury,performance      compact         coupe   \n",
       "4                                 luxury      compact   convertible   \n",
       "\n",
       "   highway_mpg  city_mpg  popularity   msrp  \n",
       "0           26        19        3916  46135  \n",
       "1           28        19        3916  40650  \n",
       "2           28        20        3916  36350  \n",
       "3           28        18        3916  29450  \n",
       "4           28        18        3916  34500  "
      ]
     },
     "execution_count": 6,
     "metadata": {},
     "output_type": "execute_result"
    }
   ],
   "source": [
    "df.head()"
   ]
  },
  {
   "cell_type": "markdown",
   "id": "326b2a22-8d69-48d3-a045-726b2e16d59f",
   "metadata": {},
   "source": [
    "- make - марка автомобиля (BMW, Toyota и т  .д.);\n",
    "- model — модель автомобиля;\n",
    "- year — год выпуска автомобиля;\n",
    "- engine_fuel_type — тип топлива, необходимого двигателю (дизельный, электрический и т  .д.);\n",
    "- engine_hp — мощность двигателя в лошадиных силах;\n",
    "- engine_cylinders - количество цилиндров в двигателе;\n",
    "- transmission_type - тип коробки передач (автоматическая или ручная);\n",
    "- driven_wheels — привод (передний, задний, полный);\n",
    "- number_of_doors - количество дверей в автомобиле;\n",
    "- market_category - премиальный, кроссовер и т  .д.;\n",
    "- vehicle_size - компактный, средний или большой;\n",
    "- vehicle_style - седан или кабриолет;\n",
    "- highway_mpg — миль на галлон (miles per gallon, mpg) на шоссе;\n",
    "- city_mpg - миль на галлон по городу;\n",
    "- popularity - количество упоминаний автомобиля в Twitter;\n",
    "- msrp — рекомендованная производителем розничная цена."
   ]
  },
  {
   "cell_type": "markdown",
   "id": "53d54862-9442-4976-b7c5-428e98382f2a",
   "metadata": {},
   "source": [
    "### Анализ целевой переменной"
   ]
  },
  {
   "cell_type": "markdown",
   "id": "41661eb3-c664-4985-aa9a-d3f7ad2c9cc1",
   "metadata": {},
   "source": [
    "Выясним, что из себя представляет наша целевая переменная (y)."
   ]
  },
  {
   "cell_type": "code",
   "execution_count": 7,
   "id": "9fa4f987-ce1c-4502-92c2-e598c54d505d",
   "metadata": {},
   "outputs": [
    {
     "data": {
      "image/png": "[encoded data removed]",
      "text/plain": [
       "<Figure size 640x480 with 1 Axes>"
      ]
     },
     "metadata": {},
     "output_type": "display_data"
    }
   ],
   "source": [
    "sns.histplot(df[\"msrp\"], bins=40);\n",
    "plt.title(\"Распределение цен\");"
   ]
  },
  {
   "cell_type": "markdown",
   "id": "e6ba7555-d9ce-46c7-b07b-3d47ae672fa9",
   "metadata": {},
   "source": [
    "Распределение цен имеет очень длинный \"хвост\". В левой части много автомобилей с низкими ценами, но их количество быстро уменьшается, после чего остается длинный \"хвост\" из очень немногих автомобилей с высокими ценами."
   ]
  },
  {
   "cell_type": "markdown",
   "id": "530cd831-c97d-429e-a777-18f218771a86",
   "metadata": {},
   "source": [
    "Рассмотрим подробнее немного увеличив масштаб и отобрав значения ниже 100000 долларов."
   ]
  },
  {
   "cell_type": "code",
   "execution_count": 8,
   "id": "acda2942-255d-4146-9b3a-1eeb8c8b7a48",
   "metadata": {},
   "outputs": [
    {
     "data": {
      "image/png": "[encoded data removed]",
      "text/plain": [
       "<Figure size 640x480 with 1 Axes>"
      ]
     },
     "metadata": {},
     "output_type": "display_data"
    }
   ],
   "source": [
    "sns.histplot(df[df.msrp < 100_000].msrp)\n",
    "plt.title(\"Распределение цен\");"
   ]
  },
  {
   "cell_type": "markdown",
   "id": "0ade2aab-a226-4b49-a9e5-0b7171dd8ad4",
   "metadata": {},
   "source": [
    "Из-за длинного «хвоста» нам довольно сложно увидеть распределение, но еще\n",
    "большее влияние он оказывает на модель: такое распределение может сильно ее\n",
    "запутать, что приведет к недостаточно хорошему обучению  .Одним из способов\n",
    "решения этой проблемы служит логарифмическое преобразование  .Применив\n",
    "функцию log к ценам, мы устраним этот нежелательный эффект"
   ]
  },
  {
   "cell_type": "code",
   "execution_count": 9,
   "id": "945e4784-93a2-40e2-a45c-c5462f52abd7",
   "metadata": {},
   "outputs": [],
   "source": [
    "df[\"log_msrp\"] = np.log1p(df.msrp) # +1 на случай цен равных 0\n",
    "df = df.drop(\"msrp\", axis=1)"
   ]
  },
  {
   "cell_type": "code",
   "execution_count": 10,
   "id": "9b8d82dc-e346-4b1c-9a60-3f0bc70b14b9",
   "metadata": {},
   "outputs": [
    {
     "data": {
      "image/png": "[encoded data removed]",
      "text/plain": [
       "<Figure size 640x480 with 1 Axes>"
      ]
     },
     "metadata": {},
     "output_type": "display_data"
    }
   ],
   "source": [
    "sns.histplot(df.log_msrp)\n",
    "plt.title(\"Распределение цен после логарифмического преобразования\");"
   ]
  },
  {
   "cell_type": "markdown",
   "id": "d3537341-c5ff-464e-bd06-ad83c1fb96ac",
   "metadata": {},
   "source": [
    "### Проверка на наличие пропущенных значений"
   ]
  },
  {
   "cell_type": "code",
   "execution_count": 11,
   "id": "35935391-ce60-4899-b990-e2e472bebaef",
   "metadata": {},
   "outputs": [
    {
     "data": {
      "text/plain": [
       "make                    0\n",
       "model                   0\n",
       "year                    0\n",
       "engine_fuel_type        3\n",
       "engine_hp              69\n",
       "engine_cylinders       30\n",
       "transmission_type       0\n",
       "driven_wheels           0\n",
       "number_of_doors         6\n",
       "market_category      3742\n",
       "vehicle_size            0\n",
       "vehicle_style           0\n",
       "highway_mpg             0\n",
       "city_mpg                0\n",
       "popularity              0\n",
       "log_msrp                0\n",
       "dtype: int64"
      ]
     },
     "execution_count": 11,
     "metadata": {},
     "output_type": "execute_result"
    }
   ],
   "source": [
    "df.isnull().sum()"
   ]
  },
  {
   "cell_type": "markdown",
   "id": "60f35f30-1f89-4066-98ba-7dd00352d439",
   "metadata": {},
   "source": [
    "### Платформа проверки"
   ]
  },
  {
   "cell_type": "markdown",
   "id": "3319a28a-9e05-4d4c-b64b-37045c44326b",
   "metadata": {},
   "source": [
    "Разделим данные на train, val и test выборки"
   ]
  },
  {
   "cell_type": "code",
   "execution_count": 12,
   "id": "816b44f7-e0d8-4f57-b4ef-430194f9236d",
   "metadata": {},
   "outputs": [],
   "source": [
    "n = len(df)\n",
    "\n",
    "n_val = int(0.2 * n)\n",
    "n_test = int(0.2 * n)\n",
    "n_train = n - (n_val + n_test)"
   ]
  },
  {
   "cell_type": "code",
   "execution_count": 13,
   "id": "0f6e6224-b525-42e1-87bf-ea9b8a84c851",
   "metadata": {},
   "outputs": [],
   "source": [
    "np.random.seed(2)\n",
    "idx = np.arange(n)\n",
    "\n",
    "df_shuffled = df.iloc[idx]\n",
    "df_train = df_shuffled.iloc[:n_train].copy()\n",
    "df_val = df_shuffled.iloc[n_train:n_train + n_val].copy()\n",
    "df_test = df_shuffled.iloc[n_train+n_val:].copy()"
   ]
  },
  {
   "cell_type": "code",
   "execution_count": 14,
   "id": "6f5d2a13-2826-4566-a792-d26d348c9f69",
   "metadata": {},
   "outputs": [
    {
     "data": {
      "text/html": [
       "<div>\n",
       "<style scoped>\n",
       "    .dataframe tbody tr th:only-of-type {\n",
       "        vertical-align: middle;\n",
       "    }\n",
       "\n",
       "    .dataframe tbody tr th {\n",
       "        vertical-align: top;\n",
       "    }\n",
       "\n",
       "    .dataframe thead th {\n",
       "        text-align: right;\n",
       "    }\n",
       "</style>\n",
       "<table border=\"1\" class=\"dataframe\">\n",
       "  <thead>\n",
       "    <tr style=\"text-align: right;\">\n",
       "      <th></th>\n",
       "      <th>make</th>\n",
       "      <th>model</th>\n",
       "      <th>year</th>\n",
       "      <th>engine_fuel_type</th>\n",
       "      <th>engine_hp</th>\n",
       "      <th>engine_cylinders</th>\n",
       "      <th>transmission_type</th>\n",
       "      <th>driven_wheels</th>\n",
       "      <th>number_of_doors</th>\n",
       "      <th>market_category</th>\n",
       "      <th>vehicle_size</th>\n",
       "      <th>vehicle_style</th>\n",
       "      <th>highway_mpg</th>\n",
       "      <th>city_mpg</th>\n",
       "      <th>popularity</th>\n",
       "      <th>log_msrp</th>\n",
       "    </tr>\n",
       "  </thead>\n",
       "  <tbody>\n",
       "    <tr>\n",
       "      <th>0</th>\n",
       "      <td>bmw</td>\n",
       "      <td>1_series_m</td>\n",
       "      <td>2011</td>\n",
       "      <td>premium_unleaded_(required)</td>\n",
       "      <td>335.0</td>\n",
       "      <td>6.0</td>\n",
       "      <td>manual</td>\n",
       "      <td>rear_wheel_drive</td>\n",
       "      <td>2.0</td>\n",
       "      <td>factory_tuner,luxury,high-performance</td>\n",
       "      <td>compact</td>\n",
       "      <td>coupe</td>\n",
       "      <td>26</td>\n",
       "      <td>19</td>\n",
       "      <td>3916</td>\n",
       "      <td>10.739349</td>\n",
       "    </tr>\n",
       "    <tr>\n",
       "      <th>1</th>\n",
       "      <td>bmw</td>\n",
       "      <td>1_series</td>\n",
       "      <td>2011</td>\n",
       "      <td>premium_unleaded_(required)</td>\n",
       "      <td>300.0</td>\n",
       "      <td>6.0</td>\n",
       "      <td>manual</td>\n",
       "      <td>rear_wheel_drive</td>\n",
       "      <td>2.0</td>\n",
       "      <td>luxury,performance</td>\n",
       "      <td>compact</td>\n",
       "      <td>convertible</td>\n",
       "      <td>28</td>\n",
       "      <td>19</td>\n",
       "      <td>3916</td>\n",
       "      <td>10.612779</td>\n",
       "    </tr>\n",
       "    <tr>\n",
       "      <th>2</th>\n",
       "      <td>bmw</td>\n",
       "      <td>1_series</td>\n",
       "      <td>2011</td>\n",
       "      <td>premium_unleaded_(required)</td>\n",
       "      <td>300.0</td>\n",
       "      <td>6.0</td>\n",
       "      <td>manual</td>\n",
       "      <td>rear_wheel_drive</td>\n",
       "      <td>2.0</td>\n",
       "      <td>luxury,high-performance</td>\n",
       "      <td>compact</td>\n",
       "      <td>coupe</td>\n",
       "      <td>28</td>\n",
       "      <td>20</td>\n",
       "      <td>3916</td>\n",
       "      <td>10.500977</td>\n",
       "    </tr>\n",
       "    <tr>\n",
       "      <th>3</th>\n",
       "      <td>bmw</td>\n",
       "      <td>1_series</td>\n",
       "      <td>2011</td>\n",
       "      <td>premium_unleaded_(required)</td>\n",
       "      <td>230.0</td>\n",
       "      <td>6.0</td>\n",
       "      <td>manual</td>\n",
       "      <td>rear_wheel_drive</td>\n",
       "      <td>2.0</td>\n",
       "      <td>luxury,performance</td>\n",
       "      <td>compact</td>\n",
       "      <td>coupe</td>\n",
       "      <td>28</td>\n",
       "      <td>18</td>\n",
       "      <td>3916</td>\n",
       "      <td>10.290483</td>\n",
       "    </tr>\n",
       "    <tr>\n",
       "      <th>4</th>\n",
       "      <td>bmw</td>\n",
       "      <td>1_series</td>\n",
       "      <td>2011</td>\n",
       "      <td>premium_unleaded_(required)</td>\n",
       "      <td>230.0</td>\n",
       "      <td>6.0</td>\n",
       "      <td>manual</td>\n",
       "      <td>rear_wheel_drive</td>\n",
       "      <td>2.0</td>\n",
       "      <td>luxury</td>\n",
       "      <td>compact</td>\n",
       "      <td>convertible</td>\n",
       "      <td>28</td>\n",
       "      <td>18</td>\n",
       "      <td>3916</td>\n",
       "      <td>10.448744</td>\n",
       "    </tr>\n",
       "  </tbody>\n",
       "</table>\n",
       "</div>"
      ],
      "text/plain": [
       "  make       model  year             engine_fuel_type  engine_hp  \\\n",
       "0  bmw  1_series_m  2011  premium_unleaded_(required)      335.0   \n",
       "1  bmw    1_series  2011  premium_unleaded_(required)      300.0   \n",
       "2  bmw    1_series  2011  premium_unleaded_(required)      300.0   \n",
       "3  bmw    1_series  2011  premium_unleaded_(required)      230.0   \n",
       "4  bmw    1_series  2011  premium_unleaded_(required)      230.0   \n",
       "\n",
       "   engine_cylinders transmission_type     driven_wheels  number_of_doors  \\\n",
       "0               6.0            manual  rear_wheel_drive              2.0   \n",
       "1               6.0            manual  rear_wheel_drive              2.0   \n",
       "2               6.0            manual  rear_wheel_drive              2.0   \n",
       "3               6.0            manual  rear_wheel_drive              2.0   \n",
       "4               6.0            manual  rear_wheel_drive              2.0   \n",
       "\n",
       "                         market_category vehicle_size vehicle_style  \\\n",
       "0  factory_tuner,luxury,high-performance      compact         coupe   \n",
       "1                     luxury,performance      compact   convertible   \n",
       "2                luxury,high-performance      compact         coupe   \n",
       "3                     luxury,performance      compact         coupe   \n",
       "4                                 luxury      compact   convertible   \n",
       "\n",
       "   highway_mpg  city_mpg  popularity   log_msrp  \n",
       "0           26        19        3916  10.739349  \n",
       "1           28        19        3916  10.612779  \n",
       "2           28        20        3916  10.500977  \n",
       "3           28        18        3916  10.290483  \n",
       "4           28        18        3916  10.448744  "
      ]
     },
     "execution_count": 14,
     "metadata": {},
     "output_type": "execute_result"
    }
   ],
   "source": [
    "df_train.head()"
   ]
  },
  {
   "cell_type": "markdown",
   "id": "6493726e-6a7f-4527-8271-d330049d2a9a",
   "metadata": {},
   "source": [
    "## Машинное обучение для регрессии"
   ]
  },
  {
   "cell_type": "markdown",
   "id": "affdddb2-dbf6-4d29-abfb-ba6f4977b9a4",
   "metadata": {},
   "source": [
    "### Линейная регрессия\n",
    "\n",
    "Модель линейной регрессии - это функция вида $$ y = g(X) $$\n",
    "Где y - это наша целевая переменная, а X матрица признаков\n",
    "Для одной записи модель выглядит так: $$ y_{i} = g(x_{i}) $$\n",
    "i - номер наблюдения\n",
    "И если у нас n признаков, то наш вектор $ x_{i} $, является n-мерным, поэтому он содержит n компонентов: $$ y_{i} = g(x_{i}) = g(x_{i1}, x_{i2}, ... x_{in}) = w_0 + x_{i1}w_1 + x_{i2}w_2 + ... + x_{in}w_n$$\n",
    "- w_0 - составляющая смещения\n",
    "- w_1, w_2, ..., w_n - веса каждого признака\n",
    "Формула короче: $$ g(x_{i}) = w_0 + \\sum^{n}_{j=1}{x_{ij}w_{j}} $$"
   ]
  },
  {
   "cell_type": "code",
   "execution_count": 15,
   "id": "8d2761dd-49db-435d-b9f2-d2b526e5092d",
   "metadata": {},
   "outputs": [
    {
     "data": {
      "text/plain": [
       "np.float64(12.312000000000001)"
      ]
     },
     "execution_count": 15,
     "metadata": {},
     "output_type": "execute_result"
    }
   ],
   "source": [
    "# Пример\n",
    "# xi = list(df_train.iloc[10][[\"engine_hp\", \"city_mpg\", \"popularity\"]].values)\n",
    "xi = np.array([453, 11, 86])\n",
    "w0 = 7.17\n",
    "w = [0.01, 0.04, 0.002] # [w1 w2 w3]\n",
    "n = 3\n",
    "\n",
    "def linear_regression(xi):\n",
    "    result = w0 + sum([xi[j] * w[j] for j in range(n)])\n",
    "    # for j in range(n):\n",
    "    #     result += xi[j] * w[j]\n",
    "    return result\n",
    "linear_regression(xi)"
   ]
  },
  {
   "cell_type": "code",
   "execution_count": 16,
   "id": "6b4d3570-54ab-4154-8d3e-f3bc9f08efe3",
   "metadata": {},
   "outputs": [
    {
     "data": {
      "text/plain": [
       "np.float64(604405.1317520784)"
      ]
     },
     "execution_count": 16,
     "metadata": {},
     "output_type": "execute_result"
    }
   ],
   "source": [
    "np.exp(linear_regression(xi) + 1) # найдем экспоненту от логарифма, что бы вернуть в исходную размерность"
   ]
  },
  {
   "cell_type": "markdown",
   "id": "75bdc941-54c4-451c-8fe7-fd117bf481ef",
   "metadata": {},
   "source": [
    "Т.к. признаки и их веса являются векторами, мы просто можем находить скалярное произведение этих векторов.\n",
    "$$ x^{T}_{i}w = \\sum^{n}_{i=1}{x_{ij}w_{j}} = x_{i1}w_1 + x_{i2}w_2 + ... + x_{in}w_n$$"
   ]
  },
  {
   "cell_type": "code",
   "execution_count": 17,
   "id": "f762f822-6c99-4fbf-9ed5-846b11b26d5d",
   "metadata": {},
   "outputs": [
    {
     "data": {
      "text/plain": [
       "np.float64(12.312000000000001)"
      ]
     },
     "execution_count": 17,
     "metadata": {},
     "output_type": "execute_result"
    }
   ],
   "source": [
    "def linear_regression(xi):\n",
    "    return w0 + xi.dot(w)\n",
    "linear_regression(xi)"
   ]
  },
  {
   "cell_type": "markdown",
   "id": "83f936d8-b437-4f19-9142-3171495d57e9",
   "metadata": {},
   "source": [
    "Что бы сделать запись еще короче мы можем добавить $w_0$ в $w$: $$ w = (w_1, w_2, ... w_n, w_0) $$\n",
    "А в вектор принзаков добавим едининцу: $$ x_i = (x_{i1}, x_{i2}, ..., x_{in}, 1) $$\n",
    "С помощью этих модификаций мы можем выразить модель как скалярное произведение между новыми векторами: $$ g(x_i) = x^{T}_{i}w $$"
   ]
  },
  {
   "cell_type": "code",
   "execution_count": 18,
   "id": "ff2e9729-790b-491b-a514-a068b041dda0",
   "metadata": {},
   "outputs": [
    {
     "data": {
      "text/plain": [
       "np.float64(12.312000000000001)"
      ]
     },
     "execution_count": 18,
     "metadata": {},
     "output_type": "execute_result"
    }
   ],
   "source": [
    "w0 = 7.17\n",
    "w = [0.01, 0.04, 0.002]\n",
    "w = w + [w0]\n",
    "\n",
    "def linear_regression(xi):\n",
    "    xi = np.append(xi, 1)\n",
    "    return xi.dot(w)\n",
    "    \n",
    "linear_regression(xi)"
   ]
  },
  {
   "cell_type": "markdown",
   "id": "f2e04a01-092c-41df-aced-c63aaf1ed02a",
   "metadata": {},
   "source": [
    "Когда же мы уже имеем матрицу принаков $X$ то формула линейной регресси превращается в $$ g(X) = w_0 + Xw $$\n"
   ]
  },
  {
   "cell_type": "markdown",
   "id": "1ed25602-4df6-4aa9-8943-f2934adfafff",
   "metadata": {},
   "source": [
    "### Обучающая модель линейной регрессии\n",
    "До сих пор мы рассматривали прогнозирование. Чтобы иметь возможность это сделат,ь нам нужно знать веса $w$. Как их получить?\n",
    "Для этого есть несколько способов. Мы используем нормальное уравнение, которое служит самым простым методом реализации. Весовой вектор $w$ может быть вычислен по следующей формуле: $$ w = (X^{T}X)^{-1}X^{T}y$$\n",
    "- $X^T$ - транспонирование X\n",
    "- $X^{T}X$ - умножение матрицы транспонированной на матрицу\n",
    "- $X^{-1}$ - величина обратная X. Для обращение мы можем использовать фунцию np.linalg.inv\n",
    "  \n",
    "P.S. Но не  всех матриц есть обратные матрицы, поэтмоу в будущем мы должны использовать метод градиентного спуска."
   ]
  },
  {
   "cell_type": "code",
   "execution_count": 19,
   "id": "c3e93e81-fe91-4bb0-a6a0-7ffa881ae5a6",
   "metadata": {},
   "outputs": [
    {
     "data": {
      "text/plain": [
       "array([[ 335.,   19., 3916.],\n",
       "       [ 300.,   19., 3916.],\n",
       "       [ 300.,   20., 3916.]])"
      ]
     },
     "execution_count": 19,
     "metadata": {},
     "output_type": "execute_result"
    }
   ],
   "source": [
    "X = df_train.iloc[:3][[\"engine_hp\", \"city_mpg\", \"popularity\"]].values\n",
    "y = df_train.iloc[:3][[\"log_msrp\"]].values\n",
    "X"
   ]
  },
  {
   "cell_type": "code",
   "execution_count": 20,
   "id": "987007f0-eb30-43a1-b1d3-360d2d3ac749",
   "metadata": {},
   "outputs": [],
   "source": [
    "def train_linear_regression(X, y):\n",
    "    # добавление фиктивного стобца\n",
    "    ones = np.ones(X.shape[0])\n",
    "    X = np.column_stack([ones, X])\n",
    "\n",
    "    XTX = X.T.dot(X)\n",
    "    XTX_inv = np.linalg.inv(XTX)\n",
    "    w = XTX_inv.dot(X.T).dot(y)\n",
    "\n",
    "    return w[0], w[1:]"
   ]
  },
  {
   "cell_type": "code",
   "execution_count": 21,
   "id": "fa916697-7689-4f64-9b0b-fd3e2ddae719",
   "metadata": {},
   "outputs": [
    {
     "name": "stdout",
     "output_type": "stream",
     "text": [
      "w0 = [8.51754226]\n",
      "w = [[0.0036162891535977335], [-0.11180172201970251], [0.0025465635533971735]]\n",
      "y_pred: [[17.57710929]\n",
      " [17.45053917]\n",
      " [17.33873744]]\n"
     ]
    }
   ],
   "source": [
    "w0, w = train_linear_regression(X, y)\n",
    "print(f\"w0 = {w0}\\nw = {w.tolist()}\")\n",
    "y_pred = w0 + X.dot(w)\n",
    "print(f\"y_pred: {y_pred}\")"
   ]
  },
  {
   "cell_type": "markdown",
   "id": "1f2459a9-475c-4970-acad-89c49e50ea47",
   "metadata": {},
   "source": [
    "### Прогнозирование цены"
   ]
  },
  {
   "cell_type": "code",
   "execution_count": 22,
   "id": "2fe95efb-3162-4e9e-818f-a9ba973be3a1",
   "metadata": {},
   "outputs": [
    {
     "data": {
      "text/html": [
       "<div>\n",
       "<style scoped>\n",
       "    .dataframe tbody tr th:only-of-type {\n",
       "        vertical-align: middle;\n",
       "    }\n",
       "\n",
       "    .dataframe tbody tr th {\n",
       "        vertical-align: top;\n",
       "    }\n",
       "\n",
       "    .dataframe thead th {\n",
       "        text-align: right;\n",
       "    }\n",
       "</style>\n",
       "<table border=\"1\" class=\"dataframe\">\n",
       "  <thead>\n",
       "    <tr style=\"text-align: right;\">\n",
       "      <th></th>\n",
       "      <th>engine_hp</th>\n",
       "      <th>engine_cylinders</th>\n",
       "      <th>highway_mpg</th>\n",
       "      <th>city_mpg</th>\n",
       "      <th>popularity</th>\n",
       "    </tr>\n",
       "  </thead>\n",
       "  <tbody>\n",
       "    <tr>\n",
       "      <th>0</th>\n",
       "      <td>335.0</td>\n",
       "      <td>6.0</td>\n",
       "      <td>26</td>\n",
       "      <td>19</td>\n",
       "      <td>3916</td>\n",
       "    </tr>\n",
       "    <tr>\n",
       "      <th>1</th>\n",
       "      <td>300.0</td>\n",
       "      <td>6.0</td>\n",
       "      <td>28</td>\n",
       "      <td>19</td>\n",
       "      <td>3916</td>\n",
       "    </tr>\n",
       "    <tr>\n",
       "      <th>2</th>\n",
       "      <td>300.0</td>\n",
       "      <td>6.0</td>\n",
       "      <td>28</td>\n",
       "      <td>20</td>\n",
       "      <td>3916</td>\n",
       "    </tr>\n",
       "    <tr>\n",
       "      <th>3</th>\n",
       "      <td>230.0</td>\n",
       "      <td>6.0</td>\n",
       "      <td>28</td>\n",
       "      <td>18</td>\n",
       "      <td>3916</td>\n",
       "    </tr>\n",
       "    <tr>\n",
       "      <th>4</th>\n",
       "      <td>230.0</td>\n",
       "      <td>6.0</td>\n",
       "      <td>28</td>\n",
       "      <td>18</td>\n",
       "      <td>3916</td>\n",
       "    </tr>\n",
       "  </tbody>\n",
       "</table>\n",
       "</div>"
      ],
      "text/plain": [
       "   engine_hp  engine_cylinders  highway_mpg  city_mpg  popularity\n",
       "0      335.0               6.0           26        19        3916\n",
       "1      300.0               6.0           28        19        3916\n",
       "2      300.0               6.0           28        20        3916\n",
       "3      230.0               6.0           28        18        3916\n",
       "4      230.0               6.0           28        18        3916"
      ]
     },
     "execution_count": 22,
     "metadata": {},
     "output_type": "execute_result"
    }
   ],
   "source": [
    "base = [\"engine_hp\", \"engine_cylinders\", \"highway_mpg\", \"city_mpg\", \"popularity\"]\n",
    "df_num = df_train[base]\n",
    "df_num.head()"
   ]
  },
  {
   "cell_type": "code",
   "execution_count": 23,
   "id": "8b10bf57-6886-441a-8e00-18dbf2b70b5d",
   "metadata": {},
   "outputs": [],
   "source": [
    "# Заполним недостающие значения 0м\n",
    "df_num = df_num.fillna(0)"
   ]
  },
  {
   "cell_type": "markdown",
   "id": "092ca289-bdec-4d2f-8077-4112c9597437",
   "metadata": {},
   "source": [
    "Данный способ самый простой и работает довольно хорошо, потому что если признак равен 0, то он наша модель просто проигнорирует значение и оно никак не повлияет на конечный прогноз."
   ]
  },
  {
   "cell_type": "code",
   "execution_count": 24,
   "id": "e3da47a4-dc36-425b-ba07-6424e882991d",
   "metadata": {},
   "outputs": [],
   "source": [
    "X_train = df_num.values\n",
    "y_train = df_train.log_msrp.values"
   ]
  },
  {
   "cell_type": "code",
   "execution_count": 25,
   "id": "98d65b2e-5d85-4bb0-867d-fbed62771306",
   "metadata": {},
   "outputs": [],
   "source": [
    "w0, w = train_linear_regression(X_train, y_train);\n",
    "y_pred = w0 + X_train.dot(w);"
   ]
  },
  {
   "cell_type": "code",
   "execution_count": 26,
   "id": "1aaae97f-3d97-48cd-bb12-385219c200ca",
   "metadata": {},
   "outputs": [
    {
     "data": {
      "image/png": "[encoded data removed]",
      "text/plain": [
       "<Figure size 640x480 with 1 Axes>"
      ]
     },
     "metadata": {},
     "output_type": "display_data"
    }
   ],
   "source": [
    "sns.histplot(y_pred, label=\"prediction\");\n",
    "sns.histplot(y_train, label=\"target\");\n",
    "plt.legend();\n",
    "plt.title(\"Прогнозы в сравнении с фактическим распределением\");"
   ]
  },
  {
   "cell_type": "markdown",
   "id": "bd612807-35fe-4c02-8449-55f0dafcfb79",
   "metadata": {},
   "source": [
    "### RMSE: оценка качества модели\n",
    "Просмотр графиков и сравнение распределения фактической целевой переменной с прогнозами - хороший способ оценить качество, но у нас не получится проделывать это каждый раз, когда мы что то меняем в модели. Вместо этого следует использовать метрику, которая количественно определяет качество модели. Существует множество показателей для оценки того, насколько хорошо себя ведет регрессионная модель. Наиболее часто используемым из них является <i>корень среднеквадратичной ошибки</i> - сокращенно **RMSE**.\n",
    "Она сообщает нам, насколько велики ошибки, допускаемые моделью. $$ RMSE = \\sqrt{\\frac{1}{m}\\sum^{m}_{i=1}{(g({x_{i}) - y_{i}})^{2}}} $$\n",
    "$ (g(x_{i}) - y_{i})^{2}$ \n",
    "Это разница между прогнозом, который мы делаем для наблюдения, и фактическим целевым значением для этого наблюдения.\n",
    "Квадрат придает гораздо больший вес большим разницам. "
   ]
  },
  {
   "cell_type": "code",
   "execution_count": 27,
   "id": "45a39136-7eb6-4a06-9232-a6521d89427e",
   "metadata": {},
   "outputs": [],
   "source": [
    "def rmse(y, y_pred):\n",
    "    error = y - y_pred\n",
    "    mse = (error**2).mean()\n",
    "    return np.sqrt(mse)"
   ]
  },
  {
   "cell_type": "markdown",
   "id": "104a3fe2-fad4-4c88-bce6-946f66d6dcc6",
   "metadata": {},
   "source": [
    "rmse(y_train, y_pred)"
   ]
  },
  {
   "cell_type": "markdown",
   "id": "a36c5b3e-5611-412f-8c47-4d55fe3e2ba7",
   "metadata": {},
   "source": [
    "Мы вычислили RMSE на обучающем  наборе. Результат полезен для понимания, но не отражает того, как модель будет использоваться в дальнейшем. Она будет применяться для прогнозирования цен на автомобили, которые раньше не встречала. Для этой уели мы ранее выделили проверочный набор данных. Мы намереенно не ипользуем ее для обучения и сохраняем для проверки модели."
   ]
  },
  {
   "cell_type": "code",
   "execution_count": 28,
   "id": "cf80e653-30ce-4777-bab8-4f6d696616ea",
   "metadata": {},
   "outputs": [],
   "source": [
    "def prepare_Xy(df):\n",
    "    df_num = df[base]\n",
    "    df_num = df_num.fillna(0)\n",
    "    X = df_num.values\n",
    "    y = df.log_msrp.values\n",
    "    return X, y"
   ]
  },
  {
   "cell_type": "code",
   "execution_count": 29,
   "id": "96a816f2-7a97-443b-bd5c-cc014fc13ef4",
   "metadata": {},
   "outputs": [],
   "source": [
    "X_train, y_train = prepare_Xy(df_train)\n",
    "w_0, w = train_linear_regression(X_train, y_train)"
   ]
  },
  {
   "cell_type": "code",
   "execution_count": 30,
   "id": "bbd95037-fe9b-4c6d-a3c9-2fe13fb6245f",
   "metadata": {},
   "outputs": [
    {
     "name": "stdout",
     "output_type": "stream",
     "text": [
      "validation: 0.7769971249567804\n"
     ]
    }
   ],
   "source": [
    "X_val, y_val = prepare_Xy(df_val)\n",
    "y_pred = w_0 + X_val.dot(w)\n",
    "print(\"validation:\", rmse(y_val, y_pred))"
   ]
  },
  {
   "cell_type": "markdown",
   "id": "10d04b22-8178-43bb-92ce-3c61a9540837",
   "metadata": {},
   "source": [
    "### Feature engeneering"
   ]
  },
  {
   "cell_type": "code",
   "execution_count": 31,
   "id": "2a709327-37a0-4ffd-baa8-909855f923f3",
   "metadata": {},
   "outputs": [],
   "source": [
    "def prepare_X(df):\n",
    "    df = df.copy()\n",
    "    features = base.copy()\n",
    "\n",
    "    df[\"age\"] = 2017 - df.year\n",
    "    features.append(\"age\")\n",
    "\n",
    "    df_num = df[features]\n",
    "    df_num = df_num.fillna(0)\n",
    "    X = df_num.values\n",
    "    return X"
   ]
  },
  {
   "cell_type": "code",
   "execution_count": 32,
   "id": "6c773d0b-31ff-4685-a8bc-a3259a5b5dc0",
   "metadata": {},
   "outputs": [
    {
     "name": "stdout",
     "output_type": "stream",
     "text": [
      "validation: 0.508359675009697\n"
     ]
    }
   ],
   "source": [
    "X_train = prepare_X(df_train)\n",
    "w_0, w = train_linear_regression(X_train, y_train)\n",
    "\n",
    "X_val = prepare_X(df_val)\n",
    "y_pred = w_0 + X_val.dot(w)\n",
    "print(\"validation:\", rmse(y_val, y_pred))"
   ]
  },
  {
   "cell_type": "code",
   "execution_count": 35,
   "id": "749d39c9-da7d-4bd4-a576-b500f884b169",
   "metadata": {},
   "outputs": [
    {
     "data": {
      "text/plain": [
       "Text(0.5, 1.0, 'Прогнозы в сравненни с фактическим распределением')"
      ]
     },
     "execution_count": 35,
     "metadata": {},
     "output_type": "execute_result"
    },
    {
     "data": {
      "image/png": "[encoded data removed]",
      "text/plain": [
       "<Figure size 640x480 with 1 Axes>"
      ]
     },
     "metadata": {},
     "output_type": "display_data"
    }
   ],
   "source": [
    "sns.histplot(y_pred, label=\"prediction\")\n",
    "sns.histplot(y_val, label=\"target\")\n",
    "plt.legend()\n",
    "plt.title(\"Прогнозы в сравненни с фактическим распределением\")"
   ]
  },
  {
   "cell_type": "markdown",
   "id": "1d54afee-8581-4171-a1e4-bddc6b7766d3",
   "metadata": {},
   "source": [
    "### Обработка категориальных признаков\n",
    "\n",
    "Используем прямое кодирование для категориального признака number_of_doors"
   ]
  },
  {
   "cell_type": "code",
   "execution_count": 37,
   "id": "c7cf2da6-f418-449e-9cb5-f33ad3e41e9a",
   "metadata": {},
   "outputs": [],
   "source": [
    "def prepare_X(df):\n",
    "    df = df.copy()\n",
    "    features = base.copy()\n",
    "\n",
    "    df[\"age\"] = 2017 - df.year\n",
    "    features.append(\"age\")\n",
    "\n",
    "    for v in [2, 3, 4]:\n",
    "        feature = f\"num_doors_{v}\"\n",
    "        value = (df[\"number_of_doors\"] == v).astype(int)\n",
    "        df[feature] = value\n",
    "        features.append(feature)\n",
    "\n",
    "    df_num = df[features]\n",
    "    df_num = df_num.fillna(0)\n",
    "    X = df_num.values\n",
    "    return X"
   ]
  },
  {
   "cell_type": "code",
   "execution_count": 43,
   "id": "6c658987-6349-433b-9aee-3c1621834c44",
   "metadata": {},
   "outputs": [
    {
     "name": "stdout",
     "output_type": "stream",
     "text": [
      "validation: 0.5126647698251209\n"
     ]
    }
   ],
   "source": [
    "X_train = prepare_X(df_train)\n",
    "w_0, w = train_linear_regression(X_train, y_train)\n",
    "\n",
    "X_val = prepare_X(df_val)\n",
    "y_pred = w_0 + X_val.dot(w)\n",
    "print(\"validation:\", rmse(y_val, y_pred))"
   ]
  },
  {
   "cell_type": "code",
   "execution_count": 44,
   "id": "d3221bb1-c5a9-4be4-9ad0-30775c063373",
   "metadata": {},
   "outputs": [
    {
     "data": {
      "text/plain": [
       "Text(0.5, 1.0, 'Прогнозы в сравненни с фактическим распределением')"
      ]
     },
     "execution_count": 44,
     "metadata": {},
     "output_type": "execute_result"
    },
    {
     "data": {
      "image/png": "[encoded data removed]",
      "text/plain": [
       "<Figure size 640x480 with 1 Axes>"
      ]
     },
     "metadata": {},
     "output_type": "display_data"
    }
   ],
   "source": [
    "sns.histplot(y_pred, label=\"prediction\")\n",
    "sns.histplot(y_val, label=\"target\")\n",
    "plt.legend()\n",
    "plt.title(\"Прогнозы в сравненни с фактическим распределением\")"
   ]
  },
  {
   "cell_type": "code",
   "execution_count": 47,
   "id": "803ca6fb-a9e9-43dd-be8d-49492a0ddf47",
   "metadata": {},
   "outputs": [],
   "source": [
    "makes = df[\"make\"].value_counts().head().index"
   ]
  },
  {
   "cell_type": "code",
   "execution_count": 48,
   "id": "372d3c63-5e98-4900-9345-2e906f101d5d",
   "metadata": {},
   "outputs": [],
   "source": [
    "def prepare_X(df):\n",
    "    df = df.copy()\n",
    "    features = base.copy()\n",
    "\n",
    "    df[\"age\"] = 2017 - df.year\n",
    "    features.append(\"age\")\n",
    "\n",
    "    for v in [2, 3, 4]:\n",
    "        feature = f\"num_doors_{v}\"\n",
    "        value = (df[\"number_of_doors\"] == v).astype(int)\n",
    "        df[feature] = value\n",
    "        features.append(feature)\n",
    "\n",
    "    for make in makes:\n",
    "        feature = f\"is_make_{make}\"\n",
    "        df[feature] = (df[\"make\"] == make).astype(int)\n",
    "        features.append(feature)\n",
    "\n",
    "    df_num = df[features]\n",
    "    df_num = df_num.fillna(0)\n",
    "    X = df_num.values\n",
    "    return X"
   ]
  },
  {
   "cell_type": "code",
   "execution_count": 49,
   "id": "963df001-7844-4f50-a4a8-4998a6360d5f",
   "metadata": {},
   "outputs": [
    {
     "name": "stdout",
     "output_type": "stream",
     "text": [
      "validation: 0.515375904831236\n"
     ]
    }
   ],
   "source": [
    "X_train = prepare_X(df_train)\n",
    "w_0, w = train_linear_regression(X_train, y_train)\n",
    "\n",
    "X_val = prepare_X(df_val)\n",
    "y_pred = w_0 + X_val.dot(w)\n",
    "print(\"validation:\", rmse(y_val, y_pred))"
   ]
  },
  {
   "cell_type": "code",
   "execution_count": 51,
   "id": "a70ccce6-7559-49e5-8e30-885a09e69b06",
   "metadata": {},
   "outputs": [
    {
     "data": {
      "image/png": "[encoded data removed]",
      "text/plain": [
       "<Figure size 640x480 with 1 Axes>"
      ]
     },
     "metadata": {},
     "output_type": "display_data"
    }
   ],
   "source": [
    "sns.histplot(y_pred, label=\"prediction\")\n",
    "sns.histplot(y_val, label=\"target\")\n",
    "plt.legend()\n",
    "plt.title(\"Прогнозы в сравненни с фактическим распределением\");"
   ]
  },
  {
   "cell_type": "markdown",
   "id": "ac121ce1-4193-4707-9829-a2a9e71abca0",
   "metadata": {},
   "source": [
    "### Регуляризация\n",
    "Добавление новых признаков не всегда помогает, иногда даже ухудшает. Причиной такого поведения служит неустойчивость численного решения.\n",
    "\n",
    "Регуляризация является важной концепцией МО и означает контроль над весами модели, обеспечивая их должное поведение и не позволяя им слишком увеличиваться, как произошло в нашем случае.\n",
    "Один из способов выаолнить регуляризацию - добавить небольшое число к каждому диагональному элементу матрицы. Тогда мы получаем следующую формулу для линейной регрессии: $$ w = (X^{T}X+\\alpha I)^{-1}X^{T}y $$\n",
    "\n",
    "Рассмотрим ту часть, которая изменилась: матрицу, которую нам нужно обратить. Вот как она выглядит: $$ X^{T}X + \\alpha I $$\n",
    "Эта формула говорит, что нам нужна $I$ - едининчная матрица, которая представляет собой матрицу с единицами на главной диагонали и нулями в остальных случаях. Мы умножаем эту единичню матрицу на число $\\alpha$. Таким образом, все значения, находящиеся в диагонали $I$, становятся $\\alpha$. Затем мы суммируем $\\alpha I$ и $X^{T}X$, что добавляет $\\alpha$ ко всем диагональным элементам $X^{T}X$."
   ]
  },
  {
   "cell_type": "code",
   "execution_count": 57,
   "id": "11e888c4-a35b-4938-8bf0-c00eee8140a5",
   "metadata": {},
   "outputs": [],
   "source": [
    "XTX = X_train.T.dot(X_train)\n",
    "XTX = XTX * 0.01 * np.eye(XTX.shape[0])"
   ]
  },
  {
   "cell_type": "markdown",
   "id": "a9eba629-a187-4cf8-bf84-662cabaacc74",
   "metadata": {},
   "source": [
    "Создадим новую функцию, которая использует эту идею и реализует линейную регрессию с регуляризацией."
   ]
  },
  {
   "cell_type": "code",
   "execution_count": 70,
   "id": "cda62bb4-4906-498d-9ee6-56c70cb2536c",
   "metadata": {},
   "outputs": [],
   "source": [
    "def train_linear_regression_reg(X: pd.DataFrame, y: pd.Series, r=0.0):\n",
    "    '''функция линейной регрессии с регуляризацией'''\n",
    "    ones = np.ones(X.shape[0])\n",
    "    X = np.column_stack([ones, X])\n",
    "\n",
    "    XTX = X.T.dot(X)\n",
    "    reg = r * np.eye(XTX.shape[0])\n",
    "    XTX = XTX + reg\n",
    "\n",
    "    XTX_inv = np.linalg.inv(XTX)\n",
    "    w = XTX_inv.dot(X.T).dot(y)\n",
    "\n",
    "    return w[0], w[1:]"
   ]
  },
  {
   "cell_type": "code",
   "execution_count": 71,
   "id": "de57ae4b-473f-46da-a150-19195716685a",
   "metadata": {},
   "outputs": [
    {
     "name": "stdout",
     "output_type": "stream",
     "text": [
      "0,\t 10.59, -1.21, -0.24\n",
      "0.001,\t 10.59, -1.21, -0.24\n",
      "0.01,\t 10.56, -1.19, -0.24\n",
      "0.1,\t 10.33, -0.97, -0.24\n",
      "1,\t 8.96, 0.30, -0.24\n",
      "10,\t 6.85, 1.88, -0.22\n"
     ]
    }
   ],
   "source": [
    "for r in [0, 0.001, 0.01, 0.1, 1, 10]:\n",
    "    w_0, w = train_linear_regression_reg(X_train, y_train, r=r)\n",
    "    print(f\"{r},\\t {w_0:.2f}, {w[6]:.2f}, {w[13]:.2f}\")"
   ]
  },
  {
   "cell_type": "code",
   "execution_count": 77,
   "id": "5385fa4b-7319-4c6f-acce-e6a4f248e9ae",
   "metadata": {},
   "outputs": [
    {
     "name": "stdout",
     "output_type": "stream",
     "text": [
      "validation: 0.5155517525655918\n"
     ]
    }
   ],
   "source": [
    "X_train = prepare_X(df_train)\n",
    "w_0, w = train_linear_regression_reg(X_train, y_train, r=0.1)\n",
    "\n",
    "X_val = prepare_X(df_val)\n",
    "y_pred = w_0 + X_val.dot(w)\n",
    "print(\"validation:\", rmse(y_val, y_pred))"
   ]
  },
  {
   "cell_type": "markdown",
   "id": "60152191-3148-4355-9c35-422e8c51a1fb",
   "metadata": {},
   "source": [
    "### Использование модели"
   ]
  },
  {
   "cell_type": "code",
   "execution_count": 78,
   "id": "3a16d856-8265-42b2-b7e3-366ed31381b0",
   "metadata": {},
   "outputs": [],
   "source": [
    "ad = {\n",
    "'city_mpg': 18,\n",
    "'driven_wheels': 'all_wheel_drive',\n",
    "'engine_cylinders': 6.0,\n",
    "'engine_fuel_type': 'regular_unleaded',\n",
    "'engine_hp': 268.0,\n",
    "'highway_mpg': 25,\n",
    "'make': 'toyota',\n",
    "'market_category': 'crossover,performance',\n",
    "'model': 'venza',\n",
    "'number_of_doors': 4.0,\n",
    "'popularity': 2031,\n",
    "'transmission_type': 'automatic',\n",
    "'vehicle_size': 'midsize',\n",
    "'vehicle_style': 'wagon',\n",
    "'year': 2013\n",
    "}"
   ]
  },
  {
   "cell_type": "code",
   "execution_count": 79,
   "id": "73d53543-cf94-46b2-8302-08e008ddbafd",
   "metadata": {},
   "outputs": [],
   "source": [
    "df_test = pd.DataFrame([ad])\n",
    "X_test = prepare_X(df_test)"
   ]
  },
  {
   "cell_type": "code",
   "execution_count": 84,
   "id": "b0720885-13bc-467b-bddd-d685482e3576",
   "metadata": {},
   "outputs": [
    {
     "data": {
      "text/plain": [
       "array([10.51265142])"
      ]
     },
     "execution_count": 84,
     "metadata": {},
     "output_type": "execute_result"
    }
   ],
   "source": [
    "y_pred = w_0 + X_test.dot(w)\n",
    "y_pred"
   ]
  },
  {
   "cell_type": "code",
   "execution_count": 85,
   "id": "222ec3b1-d88b-48d1-ae70-fb54a0d94f87",
   "metadata": {},
   "outputs": [
    {
     "data": {
      "text/plain": [
       "array([36776.86412728])"
      ]
     },
     "execution_count": 85,
     "metadata": {},
     "output_type": "execute_result"
    }
   ],
   "source": [
    "suggestion = np.expm1(y_pred)\n",
    "suggestion"
   ]
  },
  {
   "cell_type": "code",
   "execution_count": null,
   "id": "f38e1d24-e8ee-473d-b450-621db41e9983",
   "metadata": {},
   "outputs": [],
   "source": []
  }
 ],
 "metadata": {
  "kernelspec": {
   "display_name": "grigorev_venv",
   "language": "python",
   "name": "grigorev_kernel"
  },
  "language_info": {
   "codemirror_mode": {
    "name": "ipython",
    "version": 3
   },
   "file_extension": ".py",
   "mimetype": "text/x-python",
   "name": "python",
   "nbconvert_exporter": "python",
   "pygments_lexer": "ipython3",
   "version": "3.10.11"
  }
 },
 "nbformat": 4,
 "nbformat_minor": 5
}
